{
 "cells": [
  {
   "cell_type": "code",
   "execution_count": 2,
   "metadata": {},
   "outputs": [],
   "source": [
    "import numpy as np\n",
    "import pandas as pd\n",
    "import matplotlib.pyplot as plt\n",
    "import seaborn as sns\n"
   ]
  },
  {
   "cell_type": "code",
   "execution_count": 9,
   "metadata": {},
   "outputs": [],
   "source": [
    "data_train = pd.read_csv('../data/house-prices-advanced-regression-techniques/train.csv').drop('Id', axis=1)\n",
    "data_test = pd.read_csv('../data/house-prices-advanced-regression-techniques/test.csv').drop('Id', axis=1)\n",
    "data = pd.concat([data_train, data_test], axis=0, sort=False)"
   ]
  },
  {
   "cell_type": "code",
   "execution_count": 10,
   "metadata": {},
   "outputs": [],
   "source": [
    "for col in (\"GarageCond\",\"GarageQual\",\"GarageFinish\",\"GarageType\"):\n",
    "     data[col] = data[col].fillna(\"None\")"
   ]
  },
  {
   "cell_type": "code",
   "execution_count": 11,
   "metadata": {},
   "outputs": [],
   "source": [
    "for col in (\"GarageYrBlt\",\"GarageArea\",\"GarageCars\"):\n",
    "    data[col] = data[col].fillna(0)"
   ]
  },
  {
   "cell_type": "code",
   "execution_count": 12,
   "metadata": {},
   "outputs": [],
   "source": [
    "#BsmtCond : 地下室的狀況,BsmtExposure:地下室採光程度,BsmtQual:地下室高度,BsmtFinType1:地下室1的等級,BsmtFinType2:地下室2的等級\n",
    "for col in (\"BsmtCond\",\"BsmtExposure\",\"BsmtQual\",\"BsmtFinType1\",\"BsmtFinType2\"):\n",
    "     data[col] = data[col].fillna(\"None\")\n",
    "#BsmtFinSF1:地下室1的面積,BsmtFinSF2:地下室2的面積,BsmtHalfBath:地下室半浴室數量,BsmtFullBath:地下室全浴室數量,BsmtUnfSF:未完成的地下室面積,TotalBsmtSF:地下室總面積(為數值，所以缺值直接補0)\n",
    "for col in (\"BsmtFinSF1\",\"BsmtFinSF2\",\"BsmtHalfBath\",\"BsmtFullBath\",\"BsmtUnfSF\",\"TotalBsmtSF\",):\n",
    "    data[col] = data[col].fillna(0)"
   ]
  },
  {
   "cell_type": "code",
   "execution_count": null,
   "metadata": {},
   "outputs": [],
   "source": [
    "#PoolQC:游泳池等級,MiscFeature:其他類別未涵蓋的其他功能,Alley:胡同類型,Fence:圍欄等級,FireplaceQu:壁爐等級\n",
    "for col in (\"PoolQC\",\"MiscFeature\",\"Alley\",\"Fence\",\"FireplaceQu\"):\n",
    "    data[col] = data[col].fillna(\"None\")"
   ]
  },
  {
   "cell_type": "code",
   "execution_count": 13,
   "metadata": {},
   "outputs": [],
   "source": [
    "data[\"LotFrontage\"] = data.groupby(\"Neighborhood\")[\"LotFrontage\"].transform(lambda x: x.fillna(x.median()))"
   ]
  },
  {
   "cell_type": "code",
   "execution_count": null,
   "metadata": {},
   "outputs": [],
   "source": []
  }
 ],
 "metadata": {
  "kernelspec": {
   "display_name": "Python 3",
   "language": "python",
   "name": "python3"
  },
  "language_info": {
   "codemirror_mode": {
    "name": "ipython",
    "version": 3
   },
   "file_extension": ".py",
   "mimetype": "text/x-python",
   "name": "python",
   "nbconvert_exporter": "python",
   "pygments_lexer": "ipython3",
   "version": "3.11.5"
  },
  "orig_nbformat": 4
 },
 "nbformat": 4,
 "nbformat_minor": 2
}
